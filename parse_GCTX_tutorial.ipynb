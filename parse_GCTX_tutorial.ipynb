{
 "cells": [
  {
   "cell_type": "markdown",
   "metadata": {
    "nbpresent": {
     "id": "06309499-3c1c-40a6-a35a-d3868166f9a9"
    }
   },
   "source": [
    "# Managing CMap data (.gct and .gctx)"
   ]
  },
  {
   "cell_type": "markdown",
   "metadata": {
    "nbpresent": {
     "id": "a83bb07b-b8b8-422f-8678-d7c79ab6aa4a"
    }
   },
   "source": [
    "Activate conda virtual environment before running the source code.\n",
    "Installation information can be found [here](http://cmappy.readthedocs.io/en/latest/build.html#install).\n",
    "\n",
    "Based on [cmapPy tutorial](https://github.com/cmap/cmapPy/blob/master/tutorials/cmapPy_pandasGEXpress_tutorial.ipynb)."
   ]
  },
  {
   "cell_type": "code",
   "execution_count": 2,
   "metadata": {
    "nbpresent": {
     "id": "3211271f-92ae-447f-b258-6b0942640cf0"
    }
   },
   "outputs": [],
   "source": [
    "# import all necessary libraries\n",
    "import numpy as np\n",
    "import pandas as pd\n",
    "from cmapPy.pandasGEXpress.parse import parse\n",
    "import cmapPy.pandasGEXpress.slice_gctoo as sg\n",
    "import cmapPy.pandasGEXpress.concat_gctoo as cg\n",
    "import cmapPy.pandasGEXpress.GCToo as GCToo"
   ]
  },
  {
   "cell_type": "markdown",
   "metadata": {
    "nbpresent": {
     "id": "c10b775c-0c91-4ca6-a7cb-bef323d4ff18"
    }
   },
   "source": [
    "## Read data\n",
    "\n",
    "Detailed information about the data can be found in [User Guide](https://docs.google.com/document/d/1q2gciWRhVCAAnlvF2iRLuJ7whrGP6QjpsCMq1yWz7dU/edit#).\n",
    "GSE92742 is Phase I L1000 data set. Updated versions exist.\n",
    "\n",
    "If the data size > RAM, parse metadata first.\n",
    "Then select rows and columns of interest.\n",
    "\n",
    "**sig_info.txt** contains metadata for each signature in level5 matrix.\n",
    "\n",
    "**gene_info.txt** contains metadata for the rows/genes."
   ]
  },
  {
   "cell_type": "markdown",
   "metadata": {},
   "source": [
    "### Selecting specific cases\n",
    "\n",
    "#### Sample (Column) Annotation\n",
    "For example, \n",
    "interested in cells treated with specific perturbagen type\n",
    "- pert_type of compound : trt_cp\n",
    "- pert_type of shRNA for LoF : trt_sh\n",
    "- pert_type of consensus signature from shRNA for LoF : trt_sh.cgs"
   ]
  },
  {
   "cell_type": "code",
   "execution_count": 3,
   "metadata": {
    "scrolled": true
   },
   "outputs": [
    {
     "name": "stderr",
     "output_type": "stream",
     "text": [
      "/home/haeun/miniconda2/envs/my_cmapPy_env/lib/python2.7/site-packages/IPython/core/interactiveshell.py:2718: DtypeWarning: Columns (5) have mixed types. Specify dtype option on import or set low_memory=False.\n",
      "  interactivity=interactivity, compiler=compiler, result=result)\n"
     ]
    }
   ],
   "source": [
    "# read sig_info\n",
    "sig_info_path = \"../data/cmap/GSE92742_Broad_LINCS_sig_info.txt\"\n",
    "sig_info = pd.read_csv(sig_info_path, sep='\\t')"
   ]
  },
  {
   "cell_type": "code",
   "execution_count": 4,
   "metadata": {
    "scrolled": false
   },
   "outputs": [
    {
     "data": {
      "text/plain": [
       "Index([u'sig_id', u'pert_id', u'pert_iname', u'pert_type', u'cell_id',\n",
       "       u'pert_dose', u'pert_dose_unit', u'pert_idose', u'pert_time',\n",
       "       u'pert_time_unit', u'pert_itime', u'distil_id'],\n",
       "      dtype='object')"
      ]
     },
     "execution_count": 4,
     "metadata": {},
     "output_type": "execute_result"
    }
   ],
   "source": [
    "sig_info.columns"
   ]
  },
  {
   "cell_type": "code",
   "execution_count": 11,
   "metadata": {},
   "outputs": [
    {
     "name": "stdout",
     "output_type": "stream",
     "text": [
      "number of samples treated with compund: 205034\n"
     ]
    }
   ],
   "source": [
    "# Get sig_id of all samples that were treated with perturbagen compund\n",
    "compound_ids = sig_info[\"sig_id\"][sig_info[\"pert_type\"] == \"trt_cp\"]\n",
    "print \"number of samples treated with compund:\", len(compound_ids)\n"
   ]
  },
  {
   "cell_type": "markdown",
   "metadata": {},
   "source": [
    "#### Gene (row) Anotation\n",
    "\n",
    "For example, we are interested in only landmark genes.\n",
    "\n",
    "pr_is_lm == 1 for landmark genes."
   ]
  },
  {
   "cell_type": "code",
   "execution_count": 15,
   "metadata": {},
   "outputs": [
    {
     "data": {
      "text/plain": [
       "Index([u'pr_gene_id', u'pr_gene_symbol', u'pr_gene_title', u'pr_is_lm',\n",
       "       u'pr_is_bing'],\n",
       "      dtype='object')"
      ]
     },
     "execution_count": 15,
     "metadata": {},
     "output_type": "execute_result"
    }
   ],
   "source": [
    "# read gene_info\n",
    "gene_info_path = \"../data/cmap/GSE92742_Broad_LINCS_gene_info.txt\"\n",
    "# nead to specify data type to string for Entrez ids\n",
    "gene_info = pd.read_csv(gene_info_path, sep=\"\\t\", dtype=str)\n",
    "gene_info.columns"
   ]
  },
  {
   "cell_type": "code",
   "execution_count": 18,
   "metadata": {},
   "outputs": [],
   "source": [
    "# again, note that because gene_info dtypes are str, you need to find ids equal to \"1\" not 1\n",
    "landmark_row_ids = gene_info[\"pr_gene_id\"][gene_info[\"pr_is_lm\"] == \"1\"]\n"
   ]
  },
  {
   "cell_type": "markdown",
   "metadata": {},
   "source": [
    "## Parse in gctx file\n",
    "\n",
    "Read cmap level 5 expression data.\n",
    ".gctx consists of 3 Pandas dataframes.\n",
    "\n",
    "* data_df\n",
    "* row_metadata_df : The unique identifier for each row is the Entrez ID for the gene(rid)\n",
    "* col_metadata_df : sample id (cid)"
   ]
  },
  {
   "cell_type": "code",
   "execution_count": 2,
   "metadata": {
    "nbpresent": {
     "id": "2c5c9135-4340-453a-9fe1-078cf62f5e64"
    }
   },
   "outputs": [],
   "source": [
    " = parse('../data/cmap/GSE92742_Broad_LINCS_Level5_COMPZ.MODZ_n473647x12328.gctx')"
   ]
  },
  {
   "cell_type": "code",
   "execution_count": 3,
   "metadata": {
    "nbpresent": {
     "id": "8081a594-f0da-46f1-a0f8-bfcecf7e0658"
    },
    "scrolled": true
   },
   "outputs": [
    {
     "name": "stdout",
     "output_type": "stream",
     "text": [
      "GCTX1.0\n",
      "src: ../data/cmap/GSE92742_Broad_LINCS_Level5_COMPZ.MODZ_n473647x12328.gctx\n",
      "data_df: [12328 rows x 473647 columns]\n",
      "row_metadata_df: [12328 rows x 0 columns]\n",
      "col_metadata_df: [473647 rows x 0 columns]\n"
     ]
    }
   ],
   "source": [
    "print data"
   ]
  },
  {
   "cell_type": "code",
   "execution_count": 7,
   "metadata": {
    "nbpresent": {
     "id": "fb98b67f-9801-4d7b-b2e7-a405f673297a"
    },
    "scrolled": true
   },
   "outputs": [
    {
     "data": {
      "text/html": [
       "<div>\n",
       "<style>\n",
       "    .dataframe thead tr:only-child th {\n",
       "        text-align: right;\n",
       "    }\n",
       "\n",
       "    .dataframe thead th {\n",
       "        text-align: left;\n",
       "    }\n",
       "\n",
       "    .dataframe tbody tr th {\n",
       "        vertical-align: top;\n",
       "    }\n",
       "</style>\n",
       "<table border=\"1\" class=\"dataframe\">\n",
       "  <thead>\n",
       "    <tr style=\"text-align: right;\">\n",
       "      <th>chd</th>\n",
       "    </tr>\n",
       "    <tr>\n",
       "      <th>cid</th>\n",
       "    </tr>\n",
       "  </thead>\n",
       "  <tbody>\n",
       "    <tr>\n",
       "      <th>CPC005_A375_6H:BRD-A85280935-003-01-7:10</th>\n",
       "    </tr>\n",
       "    <tr>\n",
       "      <th>CPC005_A375_6H:BRD-A07824748-001-02-6:10</th>\n",
       "    </tr>\n",
       "    <tr>\n",
       "      <th>CPC004_A375_6H:BRD-K20482099-001-01-1:10</th>\n",
       "    </tr>\n",
       "    <tr>\n",
       "      <th>CPC005_A375_6H:BRD-K62929068-001-03-3:10</th>\n",
       "    </tr>\n",
       "    <tr>\n",
       "      <th>CPC005_A375_6H:BRD-K43405658-001-01-8:10</th>\n",
       "    </tr>\n",
       "    <tr>\n",
       "      <th>CPC004_A375_6H:BRD-K03670461-001-02-0:10</th>\n",
       "    </tr>\n",
       "    <tr>\n",
       "      <th>CPC004_A375_6H:BRD-K36737713-001-01-6:10</th>\n",
       "    </tr>\n",
       "    <tr>\n",
       "      <th>CPC005_A375_6H:BRD-K51223576-001-01-3:10</th>\n",
       "    </tr>\n",
       "    <tr>\n",
       "      <th>CPC004_A375_6H:BRD-A14966924-001-03-0:10</th>\n",
       "    </tr>\n",
       "    <tr>\n",
       "      <th>CPC004_A375_6H:BRD-K79131256-001-08-8:10</th>\n",
       "    </tr>\n",
       "    <tr>\n",
       "      <th>CPC004_A375_6H:BRD-A90131694-001-02-8:10</th>\n",
       "    </tr>\n",
       "    <tr>\n",
       "      <th>CPC004_A375_6H:BRD-A09056319-001-05-5:10</th>\n",
       "    </tr>\n",
       "    <tr>\n",
       "      <th>CPC004_A375_6H:BRD-K30020243-051-01-7:10</th>\n",
       "    </tr>\n",
       "    <tr>\n",
       "      <th>CPC004_A375_6H:BRD-A00993607-003-15-4:10</th>\n",
       "    </tr>\n",
       "    <tr>\n",
       "      <th>CPC004_A375_6H:BRD-K35498378-001-05-3:10</th>\n",
       "    </tr>\n",
       "    <tr>\n",
       "      <th>CPC005_A375_6H:BRD-A56675431-001-07-3:10</th>\n",
       "    </tr>\n",
       "    <tr>\n",
       "      <th>CPC004_A375_6H:BRD-A27554692-001-01-3:10</th>\n",
       "    </tr>\n",
       "    <tr>\n",
       "      <th>CPC004_A375_6H:BRD-K67043667-001-15-7:10</th>\n",
       "    </tr>\n",
       "    <tr>\n",
       "      <th>CPC005_A375_6H:BRD-K53979406-003-01-0:10</th>\n",
       "    </tr>\n",
       "    <tr>\n",
       "      <th>CPC005_A375_6H:BRD-K59419204-001-01-9:10</th>\n",
       "    </tr>\n",
       "    <tr>\n",
       "      <th>CPC005_A375_6H:BRD-A10969569-001-02-0:10</th>\n",
       "    </tr>\n",
       "    <tr>\n",
       "      <th>CPC004_A375_6H:BRD-A36010170-001-03-2:10</th>\n",
       "    </tr>\n",
       "    <tr>\n",
       "      <th>CPC004_A375_6H:BRD-K43068349-001-01-9:10</th>\n",
       "    </tr>\n",
       "    <tr>\n",
       "      <th>CPC004_A375_6H:BRD-K94512704-001-02-1:10</th>\n",
       "    </tr>\n",
       "    <tr>\n",
       "      <th>CPC004_A375_6H:BRD-A25234499-001-09-2:10</th>\n",
       "    </tr>\n",
       "    <tr>\n",
       "      <th>CPC004_A375_6H:BRD-A69917777-065-01-4:10</th>\n",
       "    </tr>\n",
       "    <tr>\n",
       "      <th>CPC004_A375_6H:BRD-K17561142-003-16-8:10</th>\n",
       "    </tr>\n",
       "    <tr>\n",
       "      <th>CPC004_A375_6H:BRD-A22032524-074-04-0:10</th>\n",
       "    </tr>\n",
       "    <tr>\n",
       "      <th>CPC004_A375_6H:BRD-K02265150-001-15-8:10</th>\n",
       "    </tr>\n",
       "    <tr>\n",
       "      <th>CPC004_A375_6H:BRD-K98490050-001-01-8:10</th>\n",
       "    </tr>\n",
       "    <tr>\n",
       "      <th>...</th>\n",
       "    </tr>\n",
       "    <tr>\n",
       "      <th>PCLB003_PC3_24H:BRD-K78431006-001-05-2:0.37</th>\n",
       "    </tr>\n",
       "    <tr>\n",
       "      <th>PCLB003_PC3_24H:BRD-K78431006-001-05-2:0.12</th>\n",
       "    </tr>\n",
       "    <tr>\n",
       "      <th>PCLB003_PC3_24H:BRD-K78431006-001-05-2:0.04</th>\n",
       "    </tr>\n",
       "    <tr>\n",
       "      <th>PCLB003_PC3_24H:BRD-K63828191-003-23-0:10</th>\n",
       "    </tr>\n",
       "    <tr>\n",
       "      <th>PCLB003_PC3_24H:BRD-K63828191-003-23-0:3.33</th>\n",
       "    </tr>\n",
       "    <tr>\n",
       "      <th>PCLB003_PC3_24H:BRD-K63828191-003-23-0:1.11</th>\n",
       "    </tr>\n",
       "    <tr>\n",
       "      <th>PCLB003_PC3_24H:BRD-K63828191-003-23-0:0.37</th>\n",
       "    </tr>\n",
       "    <tr>\n",
       "      <th>PCLB003_PC3_24H:BRD-K63828191-003-23-0:0.12</th>\n",
       "    </tr>\n",
       "    <tr>\n",
       "      <th>PCLB003_PC3_24H:BRD-K63828191-003-23-0:0.04</th>\n",
       "    </tr>\n",
       "    <tr>\n",
       "      <th>PCLB003_PC3_24H:BRD-K93754473-001-17-7:10</th>\n",
       "    </tr>\n",
       "    <tr>\n",
       "      <th>PCLB003_PC3_24H:BRD-K93754473-001-17-7:3.33</th>\n",
       "    </tr>\n",
       "    <tr>\n",
       "      <th>PCLB003_PC3_24H:BRD-K93754473-001-17-7:1.11</th>\n",
       "    </tr>\n",
       "    <tr>\n",
       "      <th>PCLB003_PC3_24H:BRD-K93754473-001-17-7:0.37</th>\n",
       "    </tr>\n",
       "    <tr>\n",
       "      <th>PCLB003_PC3_24H:BRD-K93754473-001-17-7:0.12</th>\n",
       "    </tr>\n",
       "    <tr>\n",
       "      <th>PCLB003_PC3_24H:BRD-K93754473-001-17-7:0.04</th>\n",
       "    </tr>\n",
       "    <tr>\n",
       "      <th>PCLB003_PC3_24H:BRD-A52530684-003-01-7:10</th>\n",
       "    </tr>\n",
       "    <tr>\n",
       "      <th>PCLB003_PC3_24H:BRD-A52530684-003-01-7:3.33</th>\n",
       "    </tr>\n",
       "    <tr>\n",
       "      <th>PCLB003_PC3_24H:BRD-A52530684-003-01-7:1.11</th>\n",
       "    </tr>\n",
       "    <tr>\n",
       "      <th>PCLB003_PC3_24H:BRD-A52530684-003-01-7:0.37</th>\n",
       "    </tr>\n",
       "    <tr>\n",
       "      <th>PCLB003_PC3_24H:BRD-A52530684-003-01-7:0.12</th>\n",
       "    </tr>\n",
       "    <tr>\n",
       "      <th>PCLB003_PC3_24H:BRD-A52530684-003-01-7:0.04</th>\n",
       "    </tr>\n",
       "    <tr>\n",
       "      <th>PCLB003_PC3_24H:BRD-A75409952-001-01-6:10</th>\n",
       "    </tr>\n",
       "    <tr>\n",
       "      <th>PCLB003_PC3_24H:BRD-A75409952-001-01-6:3.33</th>\n",
       "    </tr>\n",
       "    <tr>\n",
       "      <th>PCLB003_PC3_24H:BRD-A75409952-001-01-6:1.11</th>\n",
       "    </tr>\n",
       "    <tr>\n",
       "      <th>PCLB003_PC3_24H:BRD-A75409952-001-01-6:0.37</th>\n",
       "    </tr>\n",
       "    <tr>\n",
       "      <th>PCLB003_PC3_24H:BRD-A75409952-001-01-6:0.12</th>\n",
       "    </tr>\n",
       "    <tr>\n",
       "      <th>PCLB003_PC3_24H:BRD-A75409952-001-01-6:0.04</th>\n",
       "    </tr>\n",
       "    <tr>\n",
       "      <th>PCLB003_PC3_24H:BRD-K42573370-001-01-1:10</th>\n",
       "    </tr>\n",
       "    <tr>\n",
       "      <th>PCLB003_PC3_24H:BRD-K53665955-001-01-4:0.04</th>\n",
       "    </tr>\n",
       "    <tr>\n",
       "      <th>PCLB003_PC3_24H:BRD-K04466929-001-05-1:10</th>\n",
       "    </tr>\n",
       "  </tbody>\n",
       "</table>\n",
       "<p>473647 rows × 0 columns</p>\n",
       "</div>"
      ],
      "text/plain": [
       "Empty DataFrame\n",
       "Columns: []\n",
       "Index: [CPC005_A375_6H:BRD-A85280935-003-01-7:10, CPC005_A375_6H:BRD-A07824748-001-02-6:10, CPC004_A375_6H:BRD-K20482099-001-01-1:10, CPC005_A375_6H:BRD-K62929068-001-03-3:10, CPC005_A375_6H:BRD-K43405658-001-01-8:10, CPC004_A375_6H:BRD-K03670461-001-02-0:10, CPC004_A375_6H:BRD-K36737713-001-01-6:10, CPC005_A375_6H:BRD-K51223576-001-01-3:10, CPC004_A375_6H:BRD-A14966924-001-03-0:10, CPC004_A375_6H:BRD-K79131256-001-08-8:10, CPC004_A375_6H:BRD-A90131694-001-02-8:10, CPC004_A375_6H:BRD-A09056319-001-05-5:10, CPC004_A375_6H:BRD-K30020243-051-01-7:10, CPC004_A375_6H:BRD-A00993607-003-15-4:10, CPC004_A375_6H:BRD-K35498378-001-05-3:10, CPC005_A375_6H:BRD-A56675431-001-07-3:10, CPC004_A375_6H:BRD-A27554692-001-01-3:10, CPC004_A375_6H:BRD-K67043667-001-15-7:10, CPC005_A375_6H:BRD-K53979406-003-01-0:10, CPC005_A375_6H:BRD-K59419204-001-01-9:10, CPC005_A375_6H:BRD-A10969569-001-02-0:10, CPC004_A375_6H:BRD-A36010170-001-03-2:10, CPC004_A375_6H:BRD-K43068349-001-01-9:10, CPC004_A375_6H:BRD-K94512704-001-02-1:10, CPC004_A375_6H:BRD-A25234499-001-09-2:10, CPC004_A375_6H:BRD-A69917777-065-01-4:10, CPC004_A375_6H:BRD-K17561142-003-16-8:10, CPC004_A375_6H:BRD-A22032524-074-04-0:10, CPC004_A375_6H:BRD-K02265150-001-15-8:10, CPC004_A375_6H:BRD-K98490050-001-01-8:10, CPC004_A375_6H:BRD-K62200014-003-05-5:10, CPC004_A375_6H:BRD-K46937689-001-08-5:10, CPC004_A375_6H:BRD-K12057390-001-02-5:10, CPC005_A375_6H:BRD-K93188295-300-01-4:10, CPC004_A375_6H:BRD-A72758037-001-01-8:10, CPC005_A375_6H:BRD-A65145453-001-02-0:10, CPC004_A375_6H:BRD-K45861246-001-08-4:10, CPC005_A375_6H:BRD-K93080877-001-02-1:10, CPC005_A375_6H:BRD-K41445866-001-03-0:10, CPC004_A375_6H:BRD-K56558538-003-02-8:10, CPC005_A375_6H:BRD-K50214219-001-02-4:10, CPC005_A375_6H:BRD-A60197193-001-05-4:10, CPC004_A375_6H:BRD-K91290917-336-03-8:10, CPC004_A375_6H:BRD-K52397688-001-01-9:10, CPC005_A375_6H:BRD-A09062839-003-03-5:10, CPC005_A375_6H:BRD-K55424922-003-01-0:10, CPC004_A375_6H:BRD-K72726508-001-01-3:10, CPC005_A375_6H:BRD-A70514680-003-03-9:10, CPC005_A375_6H:BRD-A66199457-001-02-2:10, CPC005_A375_6H:BRD-A84493640-001-03-3:10, CPC004_A375_6H:BRD-K04877770-001-03-4:10, CPC004_A375_6H:BRD-A16694057-001-03-5:10, CPC004_A375_6H:BRD-A80017228-001-15-8:10, CPC004_A375_6H:BRD-K70327191-001-01-4:10, CPC004_A375_6H:BRD-K21450440-001-08-8:10, CPC004_A375_6H:BRD-A91008255-003-16-4:10, CPC004_A375_6H:BRD-A02180903-001-03-7:10, CPC004_A375_6H:BRD-A66861218-001-03-5:10, CPC004_A375_6H:BRD-A92177080-001-01-3:10, CPC005_A375_6H:BRD-A71799696-001-01-5:10, CPC005_A375_6H:BRD-K49294207-300-01-2:10, CPC004_A375_6H:BRD-K70914287-300-01-0:10, CPC004_A375_6H:BRD-A00546892-001-01-8:10, CPC004_A375_6H:BRD-K39987650-001-15-9:10, CPC004_A375_6H:BRD-A89175223-051-05-6:10, CPC004_A375_6H:BRD-K39120595-304-03-9:10, CPC005_A375_6H:BRD-K56509348-003-01-3:10, CPC005_A375_6H:BRD-K84895041-001-01-6:10, CPC005_A375_6H:BRD-A55484088-050-01-7:10, CPC004_A375_6H:BRD-A83326220-001-04-2:10, CPC005_A375_6H:BRD-A37347161-003-01-8:10, CPC004_A375_6H:BRD-K47631482-003-03-9:10, CPC004_A375_6H:BRD-A80151636-066-03-0:10, CPC004_A375_6H:BRD-A68723818-050-18-4:10, CPC004_A375_6H:BRD-A41995253-001-03-7:10, CPC005_A375_6H:BRD-K55344148-003-01-8:10, CPC005_A375_6H:BRD-K56115039-003-01-3:10, CPC004_A375_6H:BRD-A60571864-001-03-3:10, CPC004_A375_6H:BRD-A05186015-003-09-9:10, CPC004_A375_6H:BRD-K93461745-003-14-4:10, CPC004_A375_6H:BRD-K08287586-001-08-5:10, CPC005_A375_6H:BRD-A22713669-001-01-9:10, CPC005_A375_6H:BRD-A55946879-001-02-9:10, CPC005_A375_6H:BRD-K43468059-001-02-9:10, CPC004_A375_6H:BRD-A15131297-003-01-9:10, CPC005_A375_6H:BRD-K97688263-003-04-1:10, CPC004_A375_6H:BRD-K91699951-001-03-7:10, CPC004_A375_6H:BRD-K14221570-236-01-1:10, CPC005_A375_6H:BRD-A15034104-002-03-6:10, CPC005_A375_6H:BRD-K49448285-001-01-3:10, CPC005_A375_6H:BRD-A60274948-066-02-9:10, CPC005_A375_6H:BRD-A15070535-323-02-1:10, CPC005_A375_6H:BRD-A34299591-001-03-4:10, CPC005_A375_6H:BRD-A82238138-001-01-7:10, CPC005_A375_6H:BRD-K41707108-001-03-1:10, CPC005_A375_6H:BRD-A56020723-001-02-0:10, CPC004_A375_6H:BRD-K02404261-001-07-6:10, CPC004_A375_6H:BRD-A65671304-001-03-4:10, CPC004_A375_6H:BRD-A29322418-237-03-2:10, CPC004_A375_6H:BRD-K71799949-001-18-2:10, ...]\n",
       "\n",
       "[473647 rows x 0 columns]"
      ]
     },
     "execution_count": 7,
     "metadata": {},
     "output_type": "execute_result"
    }
   ],
   "source": [
    "data.col_metadata_df"
   ]
  },
  {
   "cell_type": "code",
   "execution_count": null,
   "metadata": {
    "nbpresent": {
     "id": "0ead987f-c35a-4bd8-91e4-a34592251538"
    }
   },
   "outputs": [],
   "source": []
  },
  {
   "cell_type": "code",
   "execution_count": null,
   "metadata": {
    "nbpresent": {
     "id": "69f567d9-30e8-4536-a04d-145ccc6a82e8"
    }
   },
   "outputs": [],
   "source": []
  }
 ],
 "metadata": {
  "kernelspec": {
   "display_name": "Python [default]",
   "language": "python",
   "name": "python2"
  },
  "language_info": {
   "codemirror_mode": {
    "name": "ipython",
    "version": 2
   },
   "file_extension": ".py",
   "mimetype": "text/x-python",
   "name": "python",
   "nbconvert_exporter": "python",
   "pygments_lexer": "ipython2",
   "version": "2.7.11"
  },
  "nbpresent": {
   "slides": {
    "07899247-2e47-4b19-bc85-5050955a64d4": {
     "id": "07899247-2e47-4b19-bc85-5050955a64d4",
     "prev": null,
     "regions": {
      "d0dcbc53-ae7d-45d2-bf31-0634c7ade8c3": {
       "attrs": {
        "height": 0.8,
        "width": 0.8,
        "x": 0.1,
        "y": 0.1
       },
       "content": {
        "cell": "c10b775c-0c91-4ca6-a7cb-bef323d4ff18",
        "part": "whole"
       },
       "id": "d0dcbc53-ae7d-45d2-bf31-0634c7ade8c3"
      }
     }
    },
    "1aef8e45-ce5a-404a-9660-b53975d29f94": {
     "id": "1aef8e45-ce5a-404a-9660-b53975d29f94",
     "prev": "07899247-2e47-4b19-bc85-5050955a64d4",
     "regions": {
      "185981ce-3d75-4c8e-a38c-8eb8a58466b8": {
       "attrs": {
        "height": 0.8,
        "width": 0.8,
        "x": 0.1,
        "y": 0.1
       },
       "content": {
        "cell": "2c5c9135-4340-453a-9fe1-078cf62f5e64",
        "part": "whole"
       },
       "id": "185981ce-3d75-4c8e-a38c-8eb8a58466b8"
      }
     }
    },
    "3ac404e8-f9f8-420f-9a0f-c0adddeaa70d": {
     "id": "3ac404e8-f9f8-420f-9a0f-c0adddeaa70d",
     "prev": "aed7c114-faaa-4158-a0c1-6a3d625c9a09",
     "regions": {
      "af98f943-2041-4d2c-a707-0375d05fc8f7": {
       "attrs": {
        "height": 0.8,
        "width": 0.8,
        "x": 0.1,
        "y": 0.1
       },
       "content": {
        "cell": "0ead987f-c35a-4bd8-91e4-a34592251538",
        "part": "whole"
       },
       "id": "af98f943-2041-4d2c-a707-0375d05fc8f7"
      }
     }
    },
    "94778b03-1942-461a-8561-54336394d7bc": {
     "id": "94778b03-1942-461a-8561-54336394d7bc",
     "prev": "1aef8e45-ce5a-404a-9660-b53975d29f94",
     "regions": {
      "55fd6bd9-e13b-4793-aa6d-d577523404ff": {
       "attrs": {
        "height": 0.8,
        "width": 0.8,
        "x": 0.1,
        "y": 0.1
       },
       "content": {
        "cell": "8081a594-f0da-46f1-a0f8-bfcecf7e0658",
        "part": "whole"
       },
       "id": "55fd6bd9-e13b-4793-aa6d-d577523404ff"
      }
     }
    },
    "aed7c114-faaa-4158-a0c1-6a3d625c9a09": {
     "id": "aed7c114-faaa-4158-a0c1-6a3d625c9a09",
     "prev": "cbaa35be-9ce3-4d78-bf9e-65f1c958a685",
     "regions": {
      "17af7d08-cd60-470c-8a60-8f94671bf2e8": {
       "attrs": {
        "height": 0.8,
        "width": 0.8,
        "x": 0.1,
        "y": 0.1
       },
       "content": {
        "cell": "fb98b67f-9801-4d7b-b2e7-a405f673297a",
        "part": "whole"
       },
       "id": "17af7d08-cd60-470c-8a60-8f94671bf2e8"
      }
     }
    },
    "cbaa35be-9ce3-4d78-bf9e-65f1c958a685": {
     "id": "cbaa35be-9ce3-4d78-bf9e-65f1c958a685",
     "prev": "f238ddbb-ca66-485a-9d69-33602d2d9530",
     "regions": {
      "5633dd11-45a3-431e-be48-24705da683a9": {
       "attrs": {
        "height": 0.8,
        "width": 0.8,
        "x": 0.1,
        "y": 0.1
       },
       "content": {
        "cell": "f4c3c96f-b928-43c0-89e5-2a0214a96842",
        "part": "whole"
       },
       "id": "5633dd11-45a3-431e-be48-24705da683a9"
      }
     }
    },
    "e3d32d0a-b30f-48dd-b978-e2d58db9ec3a": {
     "id": "e3d32d0a-b30f-48dd-b978-e2d58db9ec3a",
     "prev": "3ac404e8-f9f8-420f-9a0f-c0adddeaa70d",
     "regions": {
      "247e8e24-81f8-416e-9606-f04b2976bb76": {
       "attrs": {
        "height": 0.8,
        "width": 0.8,
        "x": 0.1,
        "y": 0.1
       },
       "content": {
        "cell": "69f567d9-30e8-4536-a04d-145ccc6a82e8",
        "part": "whole"
       },
       "id": "247e8e24-81f8-416e-9606-f04b2976bb76"
      }
     }
    },
    "f238ddbb-ca66-485a-9d69-33602d2d9530": {
     "id": "f238ddbb-ca66-485a-9d69-33602d2d9530",
     "prev": "94778b03-1942-461a-8561-54336394d7bc",
     "regions": {
      "b89c946a-9112-4487-9426-9364c0aea888": {
       "attrs": {
        "height": 0.8,
        "width": 0.8,
        "x": 0.1,
        "y": 0.1
       },
       "content": {
        "cell": "69e782e5-1d1c-4f2e-83b7-502fbf9130b8",
        "part": "whole"
       },
       "id": "b89c946a-9112-4487-9426-9364c0aea888"
      }
     }
    }
   },
   "themes": {}
  }
 },
 "nbformat": 4,
 "nbformat_minor": 2
}
